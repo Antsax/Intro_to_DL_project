{
 "cells": [
  {
   "cell_type": "code",
   "execution_count": 68,
   "metadata": {},
   "outputs": [],
   "source": [
    "import torch\n",
    "import torch.optim as optim\n",
    "from torch.utils.data import Dataset, DataLoader\n",
    "import torch.backends.cudnn as cudnn\n",
    "import torchvision\n",
    "from torchvision import transforms, datasets\n",
    "import torch.nn as nn\n",
    "import torch.nn.functional as F\n",
    "import numpy as np\n",
    "import pandas as pd\n",
    "import os\n",
    "import re\n",
    "from skimage import io\n",
    "from PIL import Image"
   ]
  },
  {
   "cell_type": "code",
   "execution_count": 87,
   "metadata": {},
   "outputs": [],
   "source": [
    "N_EPOCHS = 50\n",
    "BATCH_SIZE = 1\n",
    "LR = 0.05"
   ]
  },
  {
   "cell_type": "code",
   "execution_count": 3,
   "metadata": {},
   "outputs": [],
   "source": [
    "NUM_CLASSES = 14\n",
    "DATA_DIR = '../data/'"
   ]
  },
  {
   "attachments": {},
   "cell_type": "markdown",
   "metadata": {},
   "source": [
    "## Create a csv with information about the labels\n",
    "\n",
    "Each row has the filename and all of the potential labels coded as either zeros or ones. (Only need to run this once to create the csv)"
   ]
  },
  {
   "cell_type": "code",
   "execution_count": 44,
   "metadata": {},
   "outputs": [],
   "source": [
    "header = [\"Filename\", \"baby\", \"bird\", \"car\", \"clouds\", \"dog\", \"female\", \"flower\", \"male\", \"night\", \"people\", \"portrait\", \"river\", \"sea\", \"tree\"]\n",
    "\n",
    "def image_has_label(image_name, label):\n",
    "    image_number = re.sub('\\D', '', image_name)\n",
    "    with open(\"../data/annotations/{}.txt\".format(label)) as file:\n",
    "        for line in file:\n",
    "            if line.strip() == image_number:\n",
    "                return 1\n",
    "    return 0\n",
    "    \n",
    "\n",
    "data = []\n",
    "for image_name in os.listdir(\"../data/images/\"):\n",
    "    row = []\n",
    "    row.append(image_name)\n",
    "    for label in header[1:]:\n",
    "        row.append(image_has_label(image_name, label))\n",
    "    data.append(row)\n",
    "\n",
    "\n",
    "df = pd.DataFrame(data, columns=header)\n",
    "df.head()\n",
    "df.to_csv(\"images_encoded.csv\", index=False)\n"
   ]
  },
  {
   "attachments": {},
   "cell_type": "markdown",
   "metadata": {},
   "source": [
    "https://pytorch.org/tutorials/beginner/data_loading_tutorial.html"
   ]
  },
  {
   "cell_type": "code",
   "execution_count": 47,
   "metadata": {},
   "outputs": [
    {
     "name": "stdout",
     "output_type": "stream",
     "text": [
      "Image name: im6121.jpg\n",
      "Target shape: (14,)\n",
      "Labels: baby        0\n",
      "bird        0\n",
      "car         0\n",
      "clouds      0\n",
      "dog         0\n",
      "female      1\n",
      "flower      0\n",
      "male        0\n",
      "night       0\n",
      "people      1\n",
      "portrait    0\n",
      "river       0\n",
      "sea         0\n",
      "tree        0\n",
      "Name: 3, dtype: object\n",
      "20000\n"
     ]
    },
    {
     "data": {
      "text/html": [
       "<div>\n",
       "<style scoped>\n",
       "    .dataframe tbody tr th:only-of-type {\n",
       "        vertical-align: middle;\n",
       "    }\n",
       "\n",
       "    .dataframe tbody tr th {\n",
       "        vertical-align: top;\n",
       "    }\n",
       "\n",
       "    .dataframe thead th {\n",
       "        text-align: right;\n",
       "    }\n",
       "</style>\n",
       "<table border=\"1\" class=\"dataframe\">\n",
       "  <thead>\n",
       "    <tr style=\"text-align: right;\">\n",
       "      <th></th>\n",
       "      <th>Filename</th>\n",
       "      <th>baby</th>\n",
       "      <th>bird</th>\n",
       "      <th>car</th>\n",
       "      <th>clouds</th>\n",
       "      <th>dog</th>\n",
       "      <th>female</th>\n",
       "      <th>flower</th>\n",
       "      <th>male</th>\n",
       "      <th>night</th>\n",
       "      <th>people</th>\n",
       "      <th>portrait</th>\n",
       "      <th>river</th>\n",
       "      <th>sea</th>\n",
       "      <th>tree</th>\n",
       "    </tr>\n",
       "  </thead>\n",
       "  <tbody>\n",
       "    <tr>\n",
       "      <th>0</th>\n",
       "      <td>im5348.jpg</td>\n",
       "      <td>0</td>\n",
       "      <td>0</td>\n",
       "      <td>0</td>\n",
       "      <td>0</td>\n",
       "      <td>0</td>\n",
       "      <td>0</td>\n",
       "      <td>0</td>\n",
       "      <td>0</td>\n",
       "      <td>0</td>\n",
       "      <td>0</td>\n",
       "      <td>0</td>\n",
       "      <td>0</td>\n",
       "      <td>0</td>\n",
       "      <td>0</td>\n",
       "    </tr>\n",
       "    <tr>\n",
       "      <th>1</th>\n",
       "      <td>im10998.jpg</td>\n",
       "      <td>0</td>\n",
       "      <td>0</td>\n",
       "      <td>0</td>\n",
       "      <td>0</td>\n",
       "      <td>0</td>\n",
       "      <td>0</td>\n",
       "      <td>1</td>\n",
       "      <td>0</td>\n",
       "      <td>0</td>\n",
       "      <td>0</td>\n",
       "      <td>0</td>\n",
       "      <td>0</td>\n",
       "      <td>0</td>\n",
       "      <td>0</td>\n",
       "    </tr>\n",
       "    <tr>\n",
       "      <th>2</th>\n",
       "      <td>im4424.jpg</td>\n",
       "      <td>0</td>\n",
       "      <td>0</td>\n",
       "      <td>0</td>\n",
       "      <td>0</td>\n",
       "      <td>0</td>\n",
       "      <td>1</td>\n",
       "      <td>0</td>\n",
       "      <td>1</td>\n",
       "      <td>0</td>\n",
       "      <td>1</td>\n",
       "      <td>1</td>\n",
       "      <td>0</td>\n",
       "      <td>0</td>\n",
       "      <td>0</td>\n",
       "    </tr>\n",
       "    <tr>\n",
       "      <th>3</th>\n",
       "      <td>im6121.jpg</td>\n",
       "      <td>0</td>\n",
       "      <td>0</td>\n",
       "      <td>0</td>\n",
       "      <td>0</td>\n",
       "      <td>0</td>\n",
       "      <td>1</td>\n",
       "      <td>0</td>\n",
       "      <td>0</td>\n",
       "      <td>0</td>\n",
       "      <td>1</td>\n",
       "      <td>0</td>\n",
       "      <td>0</td>\n",
       "      <td>0</td>\n",
       "      <td>0</td>\n",
       "    </tr>\n",
       "    <tr>\n",
       "      <th>4</th>\n",
       "      <td>im13373.jpg</td>\n",
       "      <td>0</td>\n",
       "      <td>0</td>\n",
       "      <td>0</td>\n",
       "      <td>0</td>\n",
       "      <td>0</td>\n",
       "      <td>0</td>\n",
       "      <td>0</td>\n",
       "      <td>0</td>\n",
       "      <td>0</td>\n",
       "      <td>0</td>\n",
       "      <td>0</td>\n",
       "      <td>0</td>\n",
       "      <td>0</td>\n",
       "      <td>0</td>\n",
       "    </tr>\n",
       "  </tbody>\n",
       "</table>\n",
       "</div>"
      ],
      "text/plain": [
       "      Filename  baby  bird  car  clouds  dog  female  flower  male  night  \\\n",
       "0   im5348.jpg     0     0    0       0    0       0       0     0      0   \n",
       "1  im10998.jpg     0     0    0       0    0       0       1     0      0   \n",
       "2   im4424.jpg     0     0    0       0    0       1       0     1      0   \n",
       "3   im6121.jpg     0     0    0       0    0       1       0     0      0   \n",
       "4  im13373.jpg     0     0    0       0    0       0       0     0      0   \n",
       "\n",
       "   people  portrait  river  sea  tree  \n",
       "0       0         0      0    0     0  \n",
       "1       0         0      0    0     0  \n",
       "2       1         1      0    0     0  \n",
       "3       1         0      0    0     0  \n",
       "4       0         0      0    0     0  "
      ]
     },
     "execution_count": 47,
     "metadata": {},
     "output_type": "execute_result"
    }
   ],
   "source": [
    "multi_label_df = pd.read_csv(\"images_encoded.csv\")\n",
    "\n",
    "n = 3\n",
    "img_name = multi_label_df.iloc[n, 0]\n",
    "target_labels = multi_label_df.iloc[n, 1:]\n",
    "\n",
    "print('Image name: {}'.format(img_name))\n",
    "print('Target shape: {}'.format(target_labels.shape))\n",
    "print('Labels: {}'.format(target_labels))\n",
    "\n",
    "print(len(multi_label_df))\n",
    "multi_label_df.head()"
   ]
  },
  {
   "attachments": {},
   "cell_type": "markdown",
   "metadata": {},
   "source": [
    "## Creates a dataset from the csv created earlier"
   ]
  },
  {
   "cell_type": "code",
   "execution_count": 82,
   "metadata": {},
   "outputs": [],
   "source": [
    "class MultiLabelDataset(Dataset):\n",
    "    def __init__(self, csv_file, root_dir=\"../data/images/\", transform=None):\n",
    "        self.df = pd.read_csv(csv_file)\n",
    "        self.root_dir = root_dir\n",
    "        self.transform = transform\n",
    "        \n",
    "    def __len__(self):\n",
    "        return len(self.df)\n",
    "    \n",
    "    def __getitem__(self, idx):\n",
    "        if torch.is_tensor(idx):\n",
    "            idx = idx.tolist()\n",
    "        \n",
    "        img_name = os.path.join(self.root_dir, self.df.iloc[idx,0])\n",
    "        image = Image.open(img_name)\n",
    "        target_labels = self.df.iloc[idx, 1:]\n",
    "        \n",
    "        sample = {\"image_name\": img_name, \"image\": image, \"target_labels\": target_labels}\n",
    "        \n",
    "        if self.transform:\n",
    "            sample = self.transform(sample)\n",
    "        \n",
    "        return sample\n",
    "    \n",
    "class ToTensor(object):\n",
    "    def __call__(self, sample):\n",
    "        image_name, image, target_labels = sample[\"image_name\"], sample['image'], sample['target_labels']\n",
    "\n",
    "        # swap color axis because\n",
    "        # numpy image: H x W x C\n",
    "        # torch image: C x H x W\n",
    "        image = torchvision.transforms.functional.to_tensor(image)\n",
    "        return {'image_name': image_name,\n",
    "                'image': image,\n",
    "                'target_labels': torch.tensor(target_labels.values.astype(np.int32))}"
   ]
  },
  {
   "cell_type": "code",
   "execution_count": 85,
   "metadata": {},
   "outputs": [
    {
     "name": "stdout",
     "output_type": "stream",
     "text": [
      "0 torch.Size([3, 128, 128]) torch.Size([14])\n",
      "1 torch.Size([3, 128, 128]) torch.Size([14])\n",
      "2 torch.Size([3, 128, 128]) torch.Size([14])\n",
      "3 torch.Size([1, 128, 128]) torch.Size([14])\n",
      "4 torch.Size([3, 128, 128]) torch.Size([14])\n"
     ]
    }
   ],
   "source": [
    "transform = transforms.Compose([ToTensor()])\n",
    "image_dataset = MultiLabelDataset(csv_file=\"images_encoded.csv\", transform=transform)\n",
    "\n",
    "#print(image_dataset[3][\"image_name\"])\n",
    "\n",
    "for i in range(len(image_dataset)):\n",
    "    sample = image_dataset[i]\n",
    "    \n",
    "    print(i, sample[\"image\"].shape, sample[\"target_labels\"].shape)\n",
    "    \n",
    "    if i == 4:\n",
    "        break"
   ]
  },
  {
   "attachments": {},
   "cell_type": "markdown",
   "metadata": {},
   "source": [
    "A single entry in the dataset has the attributes image_name, image and target_labels\n",
    "\n",
    "image_name is a string\n",
    "\n",
    "image is a tensor with dimension [1 or 3, 128, 128] (depending on if it's grayscale or RGB)\n",
    "\n",
    "target_labels is a tensor of size [14]"
   ]
  },
  {
   "cell_type": "code",
   "execution_count": 91,
   "metadata": {},
   "outputs": [
    {
     "name": "stdout",
     "output_type": "stream",
     "text": [
      "torch.Size([1, 3, 128, 128])\n",
      "torch.Size([1, 14])\n"
     ]
    }
   ],
   "source": [
    "image_loader = DataLoader(image_dataset, batch_size=BATCH_SIZE, shuffle=True)\n",
    "\n",
    "dataiter = iter(image_loader)\n",
    "batch = next(dataiter)\n",
    "\n",
    "print(batch[\"image\"].shape)\n",
    "print(batch[\"target_labels\"].shape)"
   ]
  },
  {
   "attachments": {},
   "cell_type": "markdown",
   "metadata": {},
   "source": [
    "The loader adds one dimension to allow batching:\n",
    "\n",
    "images: torch.Size([batch_size, 3, 128, 128])\n",
    "\n",
    "target_labels torch.Size([batch_size, 14])"
   ]
  },
  {
   "cell_type": "code",
   "execution_count": null,
   "metadata": {},
   "outputs": [],
   "source": []
  }
 ],
 "metadata": {
  "kernelspec": {
   "display_name": "cuda",
   "language": "python",
   "name": "python3"
  },
  "language_info": {
   "codemirror_mode": {
    "name": "ipython",
    "version": 3
   },
   "file_extension": ".py",
   "mimetype": "text/x-python",
   "name": "python",
   "nbconvert_exporter": "python",
   "pygments_lexer": "ipython3",
   "version": "3.8.10"
  },
  "orig_nbformat": 4
 },
 "nbformat": 4,
 "nbformat_minor": 2
}
